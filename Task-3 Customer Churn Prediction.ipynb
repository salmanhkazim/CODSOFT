{
 "cells": [
  {
   "cell_type": "markdown",
   "id": "e796a03e-d15e-40f0-9113-8db527629bfb",
   "metadata": {},
   "source": [
    "# Customer Churn Prediction:\n",
    "\n",
    "Develop a model to predict customer churn for a subscriptionbased service or business. Use historical customer data, including\r\n",
    "features like usage behavior and customer demographics, and try\r\n",
    "algorithms like Logistic Regression, Random Forests, or Gradient\r\n",
    "Boosting to predict churn.\r"
   ]
  },
  {
   "cell_type": "markdown",
   "id": "56f6e0db-023c-4537-b4f8-5777c91052fc",
   "metadata": {},
   "source": [
    "# Importing necessary libraries"
   ]
  },
  {
   "cell_type": "code",
   "execution_count": 104,
   "id": "faa945d2-efbe-44dc-af71-128c5f53b5c5",
   "metadata": {},
   "outputs": [],
   "source": [
    "import pandas as pd\n",
    "import numpy as np\n",
    "import matplotlib.pyplot as plt\n",
    "import seaborn as sns\n",
    "from sklearn.model_selection import train_test_split\n",
    "from sklearn.preprocessing import StandardScaler\n",
    "from sklearn.linear_model import LogisticRegression\n",
    "from sklearn.ensemble import RandomForestClassifier, GradientBoostingClassifier\n",
    "from sklearn.tree import DecisionTreeClassifier\n",
    "from sklearn.neighbors import KNeighborsClassifier\n",
    "from sklearn import svm\n",
    "from sklearn.metrics import accuracy_score, confusion_matrix, precision_score, recall_score, f1_score"
   ]
  },
  {
   "cell_type": "markdown",
   "id": "49d706fe-c39c-45c0-9bbf-e8d9e5c92e2a",
   "metadata": {},
   "source": [
    "# Loading the dataset"
   ]
  },
  {
   "cell_type": "code",
   "execution_count": 105,
   "id": "19326822-9e20-4c3d-9acb-50847376fd0a",
   "metadata": {},
   "outputs": [],
   "source": [
    "data = pd.read_csv(\"Churn_Modelling.csv\")"
   ]
  },
  {
   "cell_type": "markdown",
   "id": "2fcded55-41de-416d-9018-19a9f26e43aa",
   "metadata": {},
   "source": [
    "# Display basic information about the dataset"
   ]
  },
  {
   "cell_type": "code",
   "execution_count": 106,
   "id": "c08e03b9-7347-4234-8655-c87ede3731a5",
   "metadata": {},
   "outputs": [
    {
     "name": "stdout",
     "output_type": "stream",
     "text": [
      "<class 'pandas.core.frame.DataFrame'>\n",
      "RangeIndex: 10000 entries, 0 to 9999\n",
      "Data columns (total 14 columns):\n",
      " #   Column           Non-Null Count  Dtype  \n",
      "---  ------           --------------  -----  \n",
      " 0   RowNumber        10000 non-null  int64  \n",
      " 1   CustomerId       10000 non-null  int64  \n",
      " 2   Surname          10000 non-null  object \n",
      " 3   CreditScore      10000 non-null  int64  \n",
      " 4   Geography        10000 non-null  object \n",
      " 5   Gender           10000 non-null  object \n",
      " 6   Age              10000 non-null  int64  \n",
      " 7   Tenure           10000 non-null  int64  \n",
      " 8   Balance          10000 non-null  float64\n",
      " 9   NumOfProducts    10000 non-null  int64  \n",
      " 10  HasCrCard        10000 non-null  int64  \n",
      " 11  IsActiveMember   10000 non-null  int64  \n",
      " 12  EstimatedSalary  10000 non-null  float64\n",
      " 13  Exited           10000 non-null  int64  \n",
      "dtypes: float64(2), int64(9), object(3)\n",
      "memory usage: 1.1+ MB\n"
     ]
    }
   ],
   "source": [
    "data.info()"
   ]
  },
  {
   "cell_type": "markdown",
   "id": "86a1d38c-ef3f-4d11-9f13-085c0428606f",
   "metadata": {},
   "source": [
    "# Dropping unnecessary columns"
   ]
  },
  {
   "cell_type": "code",
   "execution_count": 107,
   "id": "b8cd5995-1112-4214-bccb-fec8bd055859",
   "metadata": {},
   "outputs": [],
   "source": [
    "data = data.drop(['RowNumber', 'CustomerId', 'Surname'], axis=1)"
   ]
  },
  {
   "cell_type": "markdown",
   "id": "5a295acc-5dfc-469f-b4e4-7bebd0f75f29",
   "metadata": {},
   "source": [
    "# Converting categorical values to numerical using one-hot encoding"
   ]
  },
  {
   "cell_type": "code",
   "execution_count": 108,
   "id": "843ef3b9-f71e-4e0a-989d-ed47f8e86545",
   "metadata": {},
   "outputs": [],
   "source": [
    "data = pd.get_dummies(data, drop_first=True)\n",
    "data = data.astype(int)"
   ]
  },
  {
   "cell_type": "markdown",
   "id": "9a3e9419-5961-4cbf-98cb-551408106dbe",
   "metadata": {},
   "source": [
    "# Data visualization"
   ]
  },
  {
   "cell_type": "code",
   "execution_count": 109,
   "id": "11dd4d5b-a182-44eb-b7b1-ce834645e19b",
   "metadata": {},
   "outputs": [
    {
     "data": {
      "image/png": "[encoded data removed]",
      "text/plain": [
       "<Figure size 800x800 with 1 Axes>"
      ]
     },
     "metadata": {},
     "output_type": "display_data"
    }
   ],
   "source": [
    "plt.figure(figsize=(8, 8))\n",
    "churn_distribution = data['Exited'].value_counts()\n",
    "labels = churn_distribution.index\n",
    "colors = ['#66b3ff','#99ff99']\n",
    "explode = (0.1, 0)  # explode the 1st slice (churned)\n",
    "\n",
    "plt.pie(churn_distribution, labels=labels, colors=colors, autopct='%1.1f%%', startangle=90, explode=explode)\n",
    "plt.title('Churn Distribution')\n",
    "plt.show()"
   ]
  },
  {
   "cell_type": "markdown",
   "id": "e6fd88ca-ae0a-4722-9f5d-aa9fd5e5fe8e",
   "metadata": {},
   "source": [
    "# Separating features and target variable"
   ]
  },
  {
   "cell_type": "code",
   "execution_count": 110,
   "id": "1e8d08b4-08b3-4e74-8209-2cc3d76b11f0",
   "metadata": {},
   "outputs": [],
   "source": [
    "X = data.drop('Exited', axis=1)\n",
    "y = data['Exited']"
   ]
  },
  {
   "cell_type": "markdown",
   "id": "d375500f-215d-44f3-8619-24597ff6bec0",
   "metadata": {},
   "source": [
    "# Splitting the dataset into training and testing sets"
   ]
  },
  {
   "cell_type": "code",
   "execution_count": 111,
   "id": "c49442b4-5fc1-4d6d-b663-5bba7a2bc7e7",
   "metadata": {},
   "outputs": [
    {
     "name": "stdout",
     "output_type": "stream",
     "text": [
      "Training Shape:  (9000, 11)\n",
      "Testing Shape:  (1000, 11)\n"
     ]
    }
   ],
   "source": [
    "X_train, X_test, y_train, y_test = train_test_split(X, y, test_size=0.1, random_state=42)\n",
    "print('Training Shape: ', X_train.shape)\n",
    "print('Testing Shape: ', X_test.shape)"
   ]
  },
  {
   "cell_type": "markdown",
   "id": "14fe4f7c-cc36-4cf2-a046-bf23da849f28",
   "metadata": {},
   "source": [
    "# Scaling the features"
   ]
  },
  {
   "cell_type": "code",
   "execution_count": 112,
   "id": "b0242ece-10b3-410a-b454-8045fefd8ef5",
   "metadata": {},
   "outputs": [],
   "source": [
    "scaler = StandardScaler()\n",
    "X_train_scaled = scaler.fit_transform(X_train)\n",
    "X_test_scaled = scaler.transform(X_test)"
   ]
  },
  {
   "cell_type": "markdown",
   "id": "27e40f2a-e071-408b-98ee-8f373a7bff97",
   "metadata": {},
   "source": [
    "# Logistic Regression"
   ]
  },
  {
   "cell_type": "code",
   "execution_count": 113,
   "id": "8aa16304-ce08-4470-a4f8-2a7177043609",
   "metadata": {},
   "outputs": [],
   "source": [
    "LR = LogisticRegression()\n",
    "LR.fit(X_train_scaled, y_train)\n",
    "y_pred_lr = LR.predict(X_test_scaled)\n",
    "accuracy_lr = accuracy_score(y_test, y_pred_lr)\n",
    "precision_lr = precision_score(y_test, y_pred_lr)\n",
    "recall_lr = recall_score(y_test, y_pred_lr)\n",
    "f1_lr = f1_score(y_test, y_pred_lr)"
   ]
  },
  {
   "cell_type": "markdown",
   "id": "2087e593-1bf8-49dd-b0ab-58b77d04bc2e",
   "metadata": {},
   "source": [
    "# Support Vector Machine (SVM)"
   ]
  },
  {
   "cell_type": "code",
   "execution_count": 114,
   "id": "7d26e68d-344d-40ae-a8f8-56d48eefc76e",
   "metadata": {},
   "outputs": [],
   "source": [
    "svm_model = svm.SVC()\n",
    "svm_model.fit(X_train_scaled, y_train)\n",
    "y_pred_svm = svm_model.predict(X_test_scaled)\n",
    "accuracy_svm = accuracy_score(y_test, y_pred_svm)\n",
    "precision_svm = precision_score(y_test, y_pred_svm)\n",
    "recall_svm = recall_score(y_test, y_pred_svm)\n",
    "f1_svm = f1_score(y_test, y_pred_svm)"
   ]
  },
  {
   "cell_type": "markdown",
   "id": "fca9442f-a5a0-4e92-bfd7-e0e4bccaf3b2",
   "metadata": {},
   "source": [
    "# Random Forest"
   ]
  },
  {
   "cell_type": "code",
   "execution_count": 115,
   "id": "a741bf0a-0b80-419b-b498-4bdb7991810e",
   "metadata": {},
   "outputs": [],
   "source": [
    "rf = RandomForestClassifier()\n",
    "rf.fit(X_train_scaled, y_train)\n",
    "y_pred_rf = rf.predict(X_test_scaled)\n",
    "accuracy_rf = accuracy_score(y_test, y_pred_rf)\n",
    "precision_rf = precision_score(y_test, y_pred_rf)\n",
    "recall_rf = recall_score(y_test, y_pred_rf)\n",
    "f1_rf = f1_score(y_test, y_pred_rf)"
   ]
  },
  {
   "cell_type": "markdown",
   "id": "5e589959-9eed-41dd-89b8-9992e6540c5a",
   "metadata": {},
   "source": [
    "# Decision Tree Classifier"
   ]
  },
  {
   "cell_type": "code",
   "execution_count": 116,
   "id": "049f07c0-8df4-42cf-a898-8baafc4eb31b",
   "metadata": {},
   "outputs": [],
   "source": [
    "dt = DecisionTreeClassifier()\n",
    "dt.fit(X_train_scaled, y_train)\n",
    "y_pred_dt = dt.predict(X_test_scaled)\n",
    "accuracy_dt = accuracy_score(y_test, y_pred_dt)\n",
    "precision_dt = precision_score(y_test, y_pred_dt)\n",
    "recall_dt = recall_score(y_test, y_pred_dt)\n",
    "f1_dt = f1_score(y_test, y_pred_dt)"
   ]
  },
  {
   "cell_type": "markdown",
   "id": "70d226ad-f64f-4d2e-9567-d9ae609da23c",
   "metadata": {},
   "source": [
    "# KNeighbors Classifier"
   ]
  },
  {
   "cell_type": "code",
   "execution_count": 117,
   "id": "1d0ad754-2a96-46d9-a81c-a41146f65aba",
   "metadata": {},
   "outputs": [],
   "source": [
    "knn = KNeighborsClassifier()\n",
    "knn.fit(X_train_scaled, y_train)\n",
    "y_pred_knn = knn.predict(X_test_scaled)\n",
    "accuracy_knn = accuracy_score(y_test, y_pred_knn)\n",
    "precision_knn = precision_score(y_test, y_pred_knn)\n",
    "recall_knn = recall_score(y_test, y_pred_knn)\n",
    "f1_knn = f1_score(y_test, y_pred_knn)"
   ]
  },
  {
   "cell_type": "markdown",
   "id": "af934c36-84d7-496f-b839-aa335ed32c60",
   "metadata": {},
   "source": [
    "# Gradient Boosting Classifier"
   ]
  },
  {
   "cell_type": "code",
   "execution_count": 118,
   "id": "3561a2f8-c8c1-419b-99bf-97f6f596c00f",
   "metadata": {},
   "outputs": [],
   "source": [
    "gbc = GradientBoostingClassifier()\n",
    "gbc.fit(X_train_scaled, y_train)\n",
    "y_pred_gbc = gbc.predict(X_test_scaled)\n",
    "accuracy_gbc = accuracy_score(y_test, y_pred_gbc)\n",
    "precision_gbc = precision_score(y_test, y_pred_gbc)\n",
    "recall_gbc = recall_score(y_test, y_pred_gbc)\n",
    "f1_gbc = f1_score(y_test, y_pred_gbc)"
   ]
  },
  {
   "cell_type": "markdown",
   "id": "88d28731-1213-4c85-affa-841584d07ffb",
   "metadata": {},
   "source": [
    "# Model Performance Summary"
   ]
  },
  {
   "cell_type": "code",
   "execution_count": 119,
   "id": "11b64f77-1ae0-4b99-bcb4-39cfc7b21970",
   "metadata": {},
   "outputs": [
    {
     "data": {
      "text/html": [
       "<div>\n",
       "<style scoped>\n",
       "    .dataframe tbody tr th:only-of-type {\n",
       "        vertical-align: middle;\n",
       "    }\n",
       "\n",
       "    .dataframe tbody tr th {\n",
       "        vertical-align: top;\n",
       "    }\n",
       "\n",
       "    .dataframe thead th {\n",
       "        text-align: right;\n",
       "    }\n",
       "</style>\n",
       "<table border=\"1\" class=\"dataframe\">\n",
       "  <thead>\n",
       "    <tr style=\"text-align: right;\">\n",
       "      <th></th>\n",
       "      <th>Model</th>\n",
       "      <th>Accuracy</th>\n",
       "      <th>Precision</th>\n",
       "      <th>Recall</th>\n",
       "      <th>F1 Score</th>\n",
       "    </tr>\n",
       "  </thead>\n",
       "  <tbody>\n",
       "    <tr>\n",
       "      <th>0</th>\n",
       "      <td>Logistic Regression</td>\n",
       "      <td>0.809</td>\n",
       "      <td>0.500000</td>\n",
       "      <td>0.193717</td>\n",
       "      <td>0.279245</td>\n",
       "    </tr>\n",
       "    <tr>\n",
       "      <th>1</th>\n",
       "      <td>Support Vector Machine</td>\n",
       "      <td>0.865</td>\n",
       "      <td>0.797872</td>\n",
       "      <td>0.392670</td>\n",
       "      <td>0.526316</td>\n",
       "    </tr>\n",
       "    <tr>\n",
       "      <th>2</th>\n",
       "      <td>Random Forest</td>\n",
       "      <td>0.863</td>\n",
       "      <td>0.728814</td>\n",
       "      <td>0.450262</td>\n",
       "      <td>0.556634</td>\n",
       "    </tr>\n",
       "    <tr>\n",
       "      <th>3</th>\n",
       "      <td>Decision Tree</td>\n",
       "      <td>0.806</td>\n",
       "      <td>0.492537</td>\n",
       "      <td>0.518325</td>\n",
       "      <td>0.505102</td>\n",
       "    </tr>\n",
       "    <tr>\n",
       "      <th>4</th>\n",
       "      <td>KNN</td>\n",
       "      <td>0.840</td>\n",
       "      <td>0.618321</td>\n",
       "      <td>0.424084</td>\n",
       "      <td>0.503106</td>\n",
       "    </tr>\n",
       "    <tr>\n",
       "      <th>5</th>\n",
       "      <td>Gradient Boosting</td>\n",
       "      <td>0.867</td>\n",
       "      <td>0.741667</td>\n",
       "      <td>0.465969</td>\n",
       "      <td>0.572347</td>\n",
       "    </tr>\n",
       "  </tbody>\n",
       "</table>\n",
       "</div>"
      ],
      "text/plain": [
       "                    Model  Accuracy  Precision    Recall  F1 Score\n",
       "0     Logistic Regression     0.809   0.500000  0.193717  0.279245\n",
       "1  Support Vector Machine     0.865   0.797872  0.392670  0.526316\n",
       "2           Random Forest     0.863   0.728814  0.450262  0.556634\n",
       "3           Decision Tree     0.806   0.492537  0.518325  0.505102\n",
       "4                     KNN     0.840   0.618321  0.424084  0.503106\n",
       "5       Gradient Boosting     0.867   0.741667  0.465969  0.572347"
      ]
     },
     "execution_count": 119,
     "metadata": {},
     "output_type": "execute_result"
    }
   ],
   "source": [
    "performance_summary = pd.DataFrame({\n",
    "    'Model': ['Logistic Regression', 'Support Vector Machine', 'Random Forest', 'Decision Tree', 'KNN', 'Gradient Boosting'],\n",
    "    'Accuracy': [accuracy_lr, accuracy_svm, accuracy_rf, accuracy_dt, accuracy_knn, accuracy_gbc],\n",
    "    'Precision': [precision_lr, precision_svm, precision_rf, precision_dt, precision_knn, precision_gbc],\n",
    "    'Recall': [recall_lr, recall_svm, recall_rf, recall_dt, recall_knn, recall_gbc],\n",
    "    'F1 Score': [f1_lr, f1_svm, f1_rf, f1_dt, f1_knn, f1_gbc]\n",
    "})\n",
    "\n",
    "performance_summary"
   ]
  },
  {
   "cell_type": "markdown",
   "id": "3b94acb1-f90a-4408-a852-b8bc1f2ca57f",
   "metadata": {},
   "source": [
    "# Melt the performance summary for better visualization"
   ]
  },
  {
   "cell_type": "code",
   "execution_count": 120,
   "id": "8cc8cc03-3fc9-4ad8-ba1a-35dd2df12845",
   "metadata": {},
   "outputs": [],
   "source": [
    "melted_summary = pd.melt(performance_summary, id_vars=['Model'], var_name='Metric', value_name='Score')"
   ]
  },
  {
   "cell_type": "markdown",
   "id": "98c2f643-cc91-4e79-a9a0-21a24b8b3d81",
   "metadata": {},
   "source": [
    "# Plotting"
   ]
  },
  {
   "cell_type": "code",
   "execution_count": 121,
   "id": "97e933a7-866e-465b-8dc6-76c3be1c871f",
   "metadata": {},
   "outputs": [
    {
     "data": {
      "image/png": "[encoded data removed]",
      "text/plain": [
       "<Figure size 1200x800 with 1 Axes>"
      ]
     },
     "metadata": {},
     "output_type": "display_data"
    }
   ],
   "source": [
    "plt.figure(figsize=(12, 8))\n",
    "sns.barplot(x='Model', y='Score', hue='Metric', data=melted_summary, palette='viridis')\n",
    "plt.title('Performance Summary by Model')\n",
    "plt.xlabel('Model')\n",
    "plt.ylabel('Score')\n",
    "plt.legend(title='Metric')\n",
    "plt.show()"
   ]
  }
 ],
 "metadata": {
  "kernelspec": {
   "display_name": "Python 3 (ipykernel)",
   "language": "python",
   "name": "python3"
  },
  "language_info": {
   "codemirror_mode": {
    "name": "ipython",
    "version": 3
   },
   "file_extension": ".py",
   "mimetype": "text/x-python",
   "name": "python",
   "nbconvert_exporter": "python",
   "pygments_lexer": "ipython3",
   "version": "3.10.13"
  }
 },
 "nbformat": 4,
 "nbformat_minor": 5
}
